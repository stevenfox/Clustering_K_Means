{
  "nbformat": 4,
  "nbformat_minor": 0,
  "metadata": {
    "colab": {
      "name": "K-means_clustering.ipynb",
      "provenance": [],
      "authorship_tag": "ABX9TyP1w6CN9N0LbgNJooYjqOkq",
      "include_colab_link": true
    },
    "kernelspec": {
      "name": "python3",
      "display_name": "Python 3"
    }
  },
  "cells": [
    {
      "cell_type": "markdown",
      "metadata": {
        "id": "view-in-github",
        "colab_type": "text"
      },
      "source": [
        "<a href=\"https://colab.research.google.com/github/stevenfox/Clustering_K_Means/blob/master/K_means_clustering.ipynb\" target=\"_parent\"><img src=\"https://colab.research.google.com/assets/colab-badge.svg\" alt=\"Open In Colab\"/></a>"
      ]
    },
    {
      "cell_type": "markdown",
      "metadata": {
        "id": "UPrCRvNZfpEn",
        "colab_type": "text"
      },
      "source": [
        "# Unsupervised Learning with K-means and EM for Dog Breed Data Clustering and EDA "
      ]
    },
    {
      "cell_type": "code",
      "metadata": {
        "id": "zNsYnL2Xff_S",
        "colab_type": "code",
        "colab": {}
      },
      "source": [
        ""
      ],
      "execution_count": 0,
      "outputs": []
    }
  ]
}